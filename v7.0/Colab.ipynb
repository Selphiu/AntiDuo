{
  "cells": [
    {
      "cell_type": "markdown",
      "metadata": {
        "id": "oEbNGQ2YW5qQ"
      },
      "source": [
        "## osumapper: create osu! map using Tensorflow and Colab\n",
        "\n",
        "For mappers who don't know how this colaboratory thing works:\n",
        "- Press Ctrl+Enter in code blocks to run them one by one\n",
        "- It will ask you to upload .osu file and audio.mp3 after the third block of code\n",
        "- .osu file needs to have correct timing (you can use [statementreply](https://osu.ppy.sh/users/126198)'s TimingAnlyz tool)\n",
        "- After uploading them, wait for a few minutes until download pops\n",
        "\n",
        "Github: https://github.com/kotritrona/osumapper"
      ]
    },
    {
      "cell_type": "markdown",
      "metadata": {
        "id": "S7BsrNAMcdQi"
      },
      "source": [
        "### Step 1: Installation\n",
        "\n",
        "First of all, check the Notebook Settings under Edit tab.<br>\n",
        "Activate GPU to make the training faster.\n",
        "\n",
        "Then, clone the git repository and install dependencies."
      ]
    },
    {
      "cell_type": "code",
      "execution_count": null,
      "metadata": {
        "id": "BCP98K-CBzPl",
        "outputId": "d725aea6-8442-4611-bc85-61737a0d206c",
        "colab": {
          "base_uri": "https://localhost:8080/"
        }
      },
      "outputs": [
        {
          "output_type": "stream",
          "name": "stdout",
          "text": [
            "/content\n",
            "Cloning into 'osumapper'...\n",
            "remote: Enumerating objects: 1292, done.\u001b[K\n",
            "remote: Counting objects: 100% (248/248), done.\u001b[K\n",
            "remote: Compressing objects: 100% (54/54), done.\u001b[K\n",
            "remote: Total 1292 (delta 212), reused 194 (delta 194), pack-reused 1044 (from 1)\u001b[K\n",
            "Receiving objects: 100% (1292/1292), 83.34 MiB | 14.05 MiB/s, done.\n",
            "Resolving deltas: 100% (718/718), done.\n",
            "/content/osumapper/v7.0\n",
            "Reading package lists... Done\n",
            "Building dependency tree... Done\n",
            "Reading state information... Done\n",
            "ffmpeg is already the newest version (7:4.4.2-0ubuntu0.22.04.1).\n",
            "0 upgraded, 0 newly installed, 0 to remove and 35 not upgraded.\n",
            "Reading package lists... Done\n",
            "Building dependency tree... Done\n",
            "Reading state information... Done\n",
            "The following additional packages will be installed:\n",
            "  javascript-common libc-ares2 libjs-highlight.js libnode72 nodejs-doc\n",
            "Suggested packages:\n",
            "  apache2 | lighttpd | httpd npm\n",
            "The following NEW packages will be installed:\n",
            "  javascript-common libc-ares2 libjs-highlight.js libnode72 nodejs nodejs-doc\n",
            "0 upgraded, 6 newly installed, 0 to remove and 35 not upgraded.\n",
            "Need to get 13.7 MB of archives.\n",
            "After this operation, 54.0 MB of additional disk space will be used.\n",
            "Get:1 http://archive.ubuntu.com/ubuntu jammy/main amd64 javascript-common all 11+nmu1 [5,936 B]\n",
            "Get:2 http://archive.ubuntu.com/ubuntu jammy/universe amd64 libjs-highlight.js all 9.18.5+dfsg1-1 [367 kB]\n",
            "Get:3 http://archive.ubuntu.com/ubuntu jammy-updates/main amd64 libc-ares2 amd64 1.18.1-1ubuntu0.22.04.3 [45.1 kB]\n",
            "Get:4 http://archive.ubuntu.com/ubuntu jammy-updates/universe amd64 libnode72 amd64 12.22.9~dfsg-1ubuntu3.6 [10.8 MB]\n",
            "Get:5 http://archive.ubuntu.com/ubuntu jammy-updates/universe amd64 nodejs-doc all 12.22.9~dfsg-1ubuntu3.6 [2,411 kB]\n",
            "Get:6 http://archive.ubuntu.com/ubuntu jammy-updates/universe amd64 nodejs amd64 12.22.9~dfsg-1ubuntu3.6 [122 kB]\n",
            "Fetched 13.7 MB in 3s (4,218 kB/s)\n",
            "Selecting previously unselected package javascript-common.\n",
            "(Reading database ... 126284 files and directories currently installed.)\n",
            "Preparing to unpack .../0-javascript-common_11+nmu1_all.deb ...\n",
            "Unpacking javascript-common (11+nmu1) ...\n",
            "Selecting previously unselected package libjs-highlight.js.\n",
            "Preparing to unpack .../1-libjs-highlight.js_9.18.5+dfsg1-1_all.deb ...\n",
            "Unpacking libjs-highlight.js (9.18.5+dfsg1-1) ...\n",
            "Selecting previously unselected package libc-ares2:amd64.\n",
            "Preparing to unpack .../2-libc-ares2_1.18.1-1ubuntu0.22.04.3_amd64.deb ...\n",
            "Unpacking libc-ares2:amd64 (1.18.1-1ubuntu0.22.04.3) ...\n",
            "Selecting previously unselected package libnode72:amd64.\n",
            "Preparing to unpack .../3-libnode72_12.22.9~dfsg-1ubuntu3.6_amd64.deb ...\n",
            "Unpacking libnode72:amd64 (12.22.9~dfsg-1ubuntu3.6) ...\n",
            "Selecting previously unselected package nodejs-doc.\n",
            "Preparing to unpack .../4-nodejs-doc_12.22.9~dfsg-1ubuntu3.6_all.deb ...\n",
            "Unpacking nodejs-doc (12.22.9~dfsg-1ubuntu3.6) ...\n",
            "Selecting previously unselected package nodejs.\n",
            "Preparing to unpack .../5-nodejs_12.22.9~dfsg-1ubuntu3.6_amd64.deb ...\n",
            "Unpacking nodejs (12.22.9~dfsg-1ubuntu3.6) ...\n",
            "Setting up javascript-common (11+nmu1) ...\n",
            "Setting up libc-ares2:amd64 (1.18.1-1ubuntu0.22.04.3) ...\n",
            "Setting up libnode72:amd64 (12.22.9~dfsg-1ubuntu3.6) ...\n",
            "Setting up libjs-highlight.js (9.18.5+dfsg1-1) ...\n",
            "Setting up nodejs (12.22.9~dfsg-1ubuntu3.6) ...\n",
            "update-alternatives: using /usr/bin/nodejs to provide /usr/bin/js (js) in auto mode\n",
            "Setting up nodejs-doc (12.22.9~dfsg-1ubuntu3.6) ...\n",
            "Processing triggers for man-db (2.10.2-1) ...\n",
            "Processing triggers for libc-bin (2.35-0ubuntu3.8) ...\n",
            "/sbin/ldconfig.real: /usr/local/lib/libtbb.so.12 is not a symbolic link\n",
            "\n",
            "/sbin/ldconfig.real: /usr/local/lib/libhwloc.so.15 is not a symbolic link\n",
            "\n",
            "/sbin/ldconfig.real: /usr/local/lib/libur_adapter_level_zero.so.0 is not a symbolic link\n",
            "\n",
            "/sbin/ldconfig.real: /usr/local/lib/libtcm.so.1 is not a symbolic link\n",
            "\n",
            "/sbin/ldconfig.real: /usr/local/lib/libur_loader.so.0 is not a symbolic link\n",
            "\n",
            "/sbin/ldconfig.real: /usr/local/lib/libtbbmalloc_proxy.so.2 is not a symbolic link\n",
            "\n",
            "/sbin/ldconfig.real: /usr/local/lib/libur_adapter_opencl.so.0 is not a symbolic link\n",
            "\n",
            "/sbin/ldconfig.real: /usr/local/lib/libumf.so.0 is not a symbolic link\n",
            "\n",
            "/sbin/ldconfig.real: /usr/local/lib/libur_adapter_level_zero_v2.so.0 is not a symbolic link\n",
            "\n",
            "/sbin/ldconfig.real: /usr/local/lib/libtbbbind.so.3 is not a symbolic link\n",
            "\n",
            "/sbin/ldconfig.real: /usr/local/lib/libtbbmalloc.so.2 is not a symbolic link\n",
            "\n",
            "/sbin/ldconfig.real: /usr/local/lib/libtbbbind_2_0.so.3 is not a symbolic link\n",
            "\n",
            "/sbin/ldconfig.real: /usr/local/lib/libtcm_debug.so.1 is not a symbolic link\n",
            "\n",
            "/sbin/ldconfig.real: /usr/local/lib/libtbbbind_2_5.so.3 is not a symbolic link\n",
            "\n",
            "Collecting librosa==0.8.0 (from -r requirements.txt (line 1))\n",
            "  Downloading librosa-0.8.0.tar.gz (183 kB)\n",
            "\u001b[2K     \u001b[90m━━━━━━━━━━━━━━━━━━━━━━━━━━━━━━━━━━━━━━\u001b[0m \u001b[32m183.9/183.9 kB\u001b[0m \u001b[31m14.7 MB/s\u001b[0m eta \u001b[36m0:00:00\u001b[0m\n",
            "\u001b[?25h  Preparing metadata (setup.py) ... \u001b[?25l\u001b[?25hdone\n",
            "Collecting matplotlib==3.2.2 (from -r requirements.txt (line 2))\n",
            "  Downloading matplotlib-3.2.2.tar.gz (40.3 MB)\n",
            "\u001b[2K     \u001b[91m━━━━━━━━━━━━━━━━━━━━━━━━━━━━━━━━━━━━━━━\u001b[0m\u001b[91m╸\u001b[0m \u001b[32m40.3/40.3 MB\u001b[0m \u001b[31m33.1 MB/s\u001b[0m eta \u001b[36m0:00:01\u001b[0m"
          ]
        }
      ],
      "source": [
        "%cd /content/\n",
        "!git clone https://github.com/kotritrona/osumapper.git\n",
        "%cd osumapper/v7.0\n",
        "!apt install -y ffmpeg\n",
        "!apt install -y nodejs\n",
        "!cp requirements_colab.txt requirements.txt\n",
        "!cp package_colab.json package.json\n",
        "!pip install -r requirements.txt\n",
        "!npm install"
      ]
    },
    {
      "cell_type": "markdown",
      "metadata": {
        "id": "bvpYnPJOYHEc"
      },
      "source": [
        "### Step 2: Choose a pre-trained model\n",
        "Set the select_model variable to one of:\n",
        "- \"default\": default model\n",
        "- \"sota\": model trained with Sota Fujimori music (☆>5.0)\n",
        "- \"vtuber\": model trained with VTuber music (☆4.0-5.3)\n",
        "- \"inst\": model trained with rhythm game instrumental music (☆3.5-6.5)\n",
        "- \"tvsize\": model trained with TV Size maps (☆3.5-5.0 BPM140-190)\n",
        "- \"hard\": model trained with Hard difficulties (☆<3.5 BPM140-190)\n",
        "- \"normal\": model trained with Normal difficulties (☆<2.7 BPM140-190)\n",
        "- \"lowbpm\": model trained with low BPM music (☆3-4.5 BPM<140)\n",
        "- \"taiko\": taiko mode model, experimental (☆3-6)\n",
        "- \"catch\": catch mode model, experimental (☆3-6)"
      ]
    },
    {
      "cell_type": "code",
      "execution_count": null,
      "metadata": {
        "id": "cwnjUK2wNeGb"
      },
      "outputs": [],
      "source": [
        "from setup_colab import *\n",
        "\n",
        "select_model = \"taiko\"\n",
        "\n",
        "model_params = load_pretrained_model(select_model);"
      ]
    },
    {
      "cell_type": "markdown",
      "metadata": {
        "id": "hG1c_SYbZ2E0"
      },
      "source": [
        "### Step 3: Upload map and music file<br>\n",
        "Map file = .osu file with correct timing<br>\n",
        "Music file = the mp3 file in the osu folder\n"
      ]
    },
    {
      "cell_type": "code",
      "execution_count": null,
      "metadata": {
        "id": "HI5KbB4FTJ4d"
      },
      "outputs": [],
      "source": [
        "from google.colab import files\n",
        "print(\"Please upload the map file:\")\n",
        "mapfile_upload = files.upload()\n",
        "for fn in mapfile_upload.keys():\n",
        "  uploaded_osu_name = fn\n",
        "  print('Uploaded map file: \"{name}\" {length} bytes'.format(name=fn, length=len(mapfile_upload[fn])))\n",
        "print(\"Please upload the music file:\")\n",
        "music_upload = files.upload()\n",
        "for fn in music_upload.keys():\n",
        "  print('Uploaded music file: \"{name}\" {length} bytes'.format(name=fn, length=len(music_upload[fn])))\n"
      ]
    },
    {
      "cell_type": "markdown",
      "metadata": {
        "id": "aCSVs6Std44c"
      },
      "source": [
        "### Step 4: Read the map and convert to python readable format\n",
        "\n"
      ]
    },
    {
      "cell_type": "code",
      "execution_count": null,
      "metadata": {
        "id": "gWEfQqSjbE-C"
      },
      "outputs": [],
      "source": [
        "from act_newmap_prep import *\n",
        "\n",
        "step4_read_new_map(uploaded_osu_name);"
      ]
    },
    {
      "cell_type": "markdown",
      "metadata": {
        "id": "7tlnx5FleHx-"
      },
      "source": [
        "### Step 5: Use model to calculate map rhythm\n",
        "\n",
        "Parameters:\n",
        "\n",
        "\"note_density\": how many notes will be placed on the timeline, range (0, 1).<br>\n",
        "\"slider_favor\": how the model favors sliders against circles, range (-1.1, 1.1).<br>\n",
        "\"dist_multiplier\": the distance snap. range (0, +∞). Of course 0/+∞ are not advisable.<br>\n",
        "\"divisor_favor\": how the model favors notes to be on each divisor starting from a beat (white, blue, red, blue), range (-1, 1) each.<br>\n",
        "\"slider_max_ticks\": the max amount of time a slider can slide, range (1, +∞)."
      ]
    },
    {
      "cell_type": "code",
      "execution_count": null,
      "metadata": {
        "id": "MIH-5TkFeHWW"
      },
      "outputs": [],
      "source": [
        "from act_rhythm_calc import *\n",
        "\n",
        "model = step5_load_model(model_file=model_params[\"rhythm_model\"]);\n",
        "npz = step5_load_npz();\n",
        "params = model_params[\"rhythm_param\"]\n",
        "# Or set the parameters here...\n",
        "# params = step5_set_params(dist_multiplier=1, note_density=0.32, slider_favor=0, divisor_favor=[0] * 4, slider_max_ticks=8);\n",
        "\n",
        "predictions = step5_predict_notes(model, npz, params);\n",
        "converted = step5_convert_sliders(predictions, params);\n",
        "\n",
        "step5_save_predictions(converted);"
      ]
    },
    {
      "cell_type": "markdown",
      "metadata": {
        "id": "zrIVHZ60fEq1"
      },
      "source": [
        "## Step 6: Map flow generator\n",
        "\n",
        "Generate the final map using a Generative Adversarial Network (GAN).\n",
        "\n",
        "Parameters:\n",
        "\n",
        "\n",
        "- note_distance_basis: the baseline for distance snap between notes\n",
        "- max_ticks_for_ds: max number of time ticks (each 1/4) that it uses the distance snap\n",
        "- next_from_slider_end: use slider end instead of slider head for calculating distance\n",
        "- box_loss_border, box_loss_value: it's like a barrier on the map edges that bounces off the circles\n",
        "- divisor, note_group_size: don't change unless you're using a special model built for it\n",
        "- good_epoch, max_epoch: controls the training time. less time makes it faster but risks less quality\n",
        "- g_\\*, c_\\*: hyperparameters used by GAN. No one knows how they work but they mysterically affect the result"
      ]
    },
    {
      "cell_type": "code",
      "execution_count": null,
      "metadata": {
        "id": "_7w3uQK3fFEH"
      },
      "outputs": [],
      "source": [
        "from act_gan import *;\n",
        "\n",
        "GAN_PARAMS = model_params[\"gan\"]\n",
        "# Or manually set the parameters...\n",
        "# GAN_PARAMS = {\n",
        "#     \"divisor\" : 4,\n",
        "#     \"good_epoch\" : 12,\n",
        "#     \"max_epoch\" : 30,\n",
        "#     \"note_group_size\" : 10,\n",
        "#     \"g_epochs\" : 1,\n",
        "#     \"c_epochs\" : 1,\n",
        "#     \"g_batch\" : 50,\n",
        "#     \"g_input_size\" : 50,\n",
        "#     \"c_true_batch\" : 140,\n",
        "#     \"c_false_batch\" : 5,\n",
        "#     \"c_randfalse_batch\" : 5,\n",
        "#     \"note_distance_basis\" : 200,\n",
        "#     \"next_from_slider_end\" : False,\n",
        "#     \"max_ticks_for_ds\" : 1,\n",
        "#     \"box_loss_border\" : 0.1,\n",
        "#     \"box_loss_value\" : 0.4,\n",
        "#     \"box_loss_weight\" : 1\n",
        "# };\n",
        "\n",
        "step6_set_gan_params(GAN_PARAMS);\n",
        "osu_a, data = step6_run_all(flow_dataset_npz=model_params[\"flow_dataset\"]);"
      ]
    },
    {
      "cell_type": "markdown",
      "metadata": {
        "id": "zMptr6M2fe5l"
      },
      "source": [
        "### Since the generation will take a while...\n",
        "\n",
        "we can appreciate a nice picture of Cute Sophie!!\n",
        "\n",
        "<img src=\"https://i.imgur.com/Ko2wogO.jpg\" />\n",
        "\n"
      ]
    },
    {
      "cell_type": "markdown",
      "metadata": {
        "id": "2GsO_V3of4i2"
      },
      "source": [
        "Do a little modding to the map.\n",
        "\n",
        "Parameters:\n",
        "\n",
        "- stream_regularizer: fix bad streams. integer for modes (0,1,2,3,4) 0=inactive\n",
        "- slider_mirror: mirror slider ends if they go outside map area. (0,1) 0=inactive 1=active"
      ]
    },
    {
      "cell_type": "code",
      "execution_count": null,
      "metadata": {
        "id": "QbQ-b6BAp1jp"
      },
      "outputs": [],
      "source": [
        "from act_modding import *\n",
        "\n",
        "modding_params = model_params[\"modding\"]\n",
        "# modding_params = {\n",
        "#     \"stream_regularizer\" : 1,\n",
        "#     \"slider_mirror\" : 1\n",
        "# }\n",
        "\n",
        "osu_a, data = step7_modding(osu_a, data, modding_params);"
      ]
    },
    {
      "cell_type": "markdown",
      "metadata": {
        "id": "P8r98Efvp1jp"
      },
      "source": [
        "Finally, save the data into an .osu file!"
      ]
    },
    {
      "cell_type": "code",
      "execution_count": null,
      "metadata": {
        "id": "4grDPVPhfeFV"
      },
      "outputs": [],
      "source": [
        "from google.colab import files\n",
        "from act_final import *\n",
        "from act_taiko_hitsounds import *\n",
        "\n",
        "if select_model == \"taiko\":\n",
        "    taiko_hitsounds_params = step8_taiko_hitsounds_set_params(divisor=4, metronome_count=4)\n",
        "    hitsounds = step8_apply_taiko_hitsounds(osu_a, data, hs_dataset=model_params[\"hs_dataset\"], params=taiko_hitsounds_params)\n",
        "    saved_osu_name = step8_save_osu_file(osu_a, data, hitsounds=hitsounds)\n",
        "else:\n",
        "    saved_osu_name = step8_save_osu_file(osu_a, data);\n",
        "\n",
        "files.download(saved_osu_name)"
      ]
    },
    {
      "cell_type": "code",
      "execution_count": null,
      "metadata": {
        "id": "QKHPzCOdp1jq"
      },
      "outputs": [],
      "source": [
        "# clean up if you want to make another map!\n",
        "# colab_clean_up(uploaded_osu_name)"
      ]
    },
    {
      "cell_type": "markdown",
      "metadata": {
        "id": "_suWTENmNd6z"
      },
      "source": [
        "That's it! Now you can try out the AI-created map in osu!.\n",
        "\n",
        "For bug reports and feedbacks either report it on github or use discord: <br>\n",
        "[https://discord.com/invite/npmSy7K](https://discord.com/invite/npmSy7K)"
      ]
    }
  ],
  "metadata": {
    "accelerator": "GPU",
    "colab": {
      "name": "osumapper Colab.ipynb",
      "provenance": []
    },
    "kernelspec": {
      "display_name": "Python 3",
      "language": "python",
      "name": "python3"
    },
    "language_info": {
      "codemirror_mode": {
        "name": "ipython",
        "version": 3
      },
      "file_extension": ".py",
      "mimetype": "text/x-python",
      "name": "python",
      "nbconvert_exporter": "python",
      "pygments_lexer": "ipython3",
      "version": "3.8.3"
    }
  },
  "nbformat": 4,
  "nbformat_minor": 0
}